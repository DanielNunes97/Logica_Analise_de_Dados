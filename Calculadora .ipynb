{
  "nbformat": 4,
  "nbformat_minor": 0,
  "metadata": {
    "colab": {
      "provenance": []
    },
    "kernelspec": {
      "name": "python3",
      "display_name": "Python 3"
    },
    "language_info": {
      "name": "python"
    }
  },
  "cells": [
    {
      "cell_type": "code",
      "execution_count": 1,
      "metadata": {
        "colab": {
          "base_uri": "https://localhost:8080/"
        },
        "id": "TTIv5UhgoQ20",
        "outputId": "7167d906-85d4-49bd-c5fc-b7c48ed1fac3"
      },
      "outputs": [
        {
          "output_type": "stream",
          "name": "stdout",
          "text": [
            "Digite o primeiro número: 5\n",
            "Digite o segundo número: 9\n",
            "escolha a operação:\n",
            "1. somar\n",
            "2. subtração\n",
            "3. multiplicação\n",
            "4. divisão\n",
            "digite o numero de operação (1/2/3/4:): 1\n",
            "o resultado da soma é: 14.0\n"
          ]
        }
      ],
      "source": [
        "# Calculadora Python\n",
        "\n",
        "# Função para somar\n",
        "def somar(a, b):\n",
        "    return a + b\n",
        "\n",
        "# Função para subtrair\n",
        "def subtrair(a, b):\n",
        "    return a - b\n",
        "\n",
        "# Função para multiplicar\n",
        "def multiplicar(a, b):\n",
        "    return a * b\n",
        "\n",
        "# Função para dividir\n",
        "def dividir(a , b):\n",
        "    if b !=0:\n",
        "        return a / b\n",
        "    else:\n",
        "          return \"erro: dividir por zero!\"\n",
        "\n",
        "# Acesso do usuário\n",
        "num1 = float(input(\"Digite o primeiro número: \"))\n",
        "num2 = float(input(\"Digite o segundo número: \"))\n",
        "\n",
        "# Escolhas  de Operação\n",
        "print(\"escolha a operação:\")\n",
        "print(\"1. somar\")\n",
        "print(\"2. subtração\")\n",
        "print(\"3. multiplicação\")\n",
        "print(\"4. divisão\")\n",
        "\n",
        "opcao = int(input(\"digite o numero de operação (1/2/3/4:): \"))\n",
        "\n",
        "# Operações disponíveis\n",
        "if opcao == 1:\n",
        "    print(f\"o resultado da soma é: {somar(num1, num2)}\")\n",
        "elif opcao == 2:\n",
        "    print(f\"o resultado da subtração é: {subtrair(num1, num2)}\")\n",
        "elif opcao == 3:\n",
        "    print(f\"o resultado da multiplicacao é: {multiplicar(num1, num2)}\")\n",
        "elif opcao == 4:\n",
        "    print(f\"o resultado da divisão é: {dividir(num1, num2)}\")\n",
        "else:\n",
        "    print(\"não existe\")"
      ]
    }
  ]
}